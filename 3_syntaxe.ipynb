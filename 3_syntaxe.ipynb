{
 "cells": [
  {
   "cell_type": "markdown",
   "metadata": {},
   "source": [
    "# Tests, Bocules et Fonctions\n",
    "To do:\n",
    "1. tests\n",
    "2. les boucles\n",
    "3. les fonctions"
   ]
  },
  {
   "cell_type": "markdown",
   "metadata": {},
   "source": [
    "## 1. Tests\n",
    "* le type booléen prend les valeurs **True** et **False**\n",
    "* nous utilisons == pour tester une égalité. D'autres opérateurs les plus utilisés sont >, <, >=, <=, or, and, &, |, not,  !=\n",
    "* Nous utilisons les mots clès if, elif et else pour les tests"
   ]
  },
  {
   "cell_type": "code",
   "execution_count": 1,
   "metadata": {},
   "outputs": [
    {
     "name": "stdout",
     "output_type": "stream",
     "text": [
      "True\n",
      "<class 'bool'>\n"
     ]
    }
   ],
   "source": [
    "v = True\n",
    "print(v)\n",
    "print(type(v))"
   ]
  },
  {
   "cell_type": "code",
   "execution_count": 2,
   "metadata": {},
   "outputs": [
    {
     "data": {
      "text/plain": [
       "True"
      ]
     },
     "execution_count": 2,
     "metadata": {},
     "output_type": "execute_result"
    }
   ],
   "source": [
    "v == True"
   ]
  },
  {
   "cell_type": "code",
   "execution_count": 3,
   "metadata": {},
   "outputs": [
    {
     "data": {
      "text/plain": [
       "False"
      ]
     },
     "execution_count": 3,
     "metadata": {},
     "output_type": "execute_result"
    }
   ],
   "source": [
    "v== False"
   ]
  },
  {
   "cell_type": "code",
   "execution_count": 4,
   "metadata": {},
   "outputs": [
    {
     "name": "stdout",
     "output_type": "stream",
     "text": [
      "True\n"
     ]
    }
   ],
   "source": [
    "print(2+3 == 5)"
   ]
  },
  {
   "cell_type": "code",
   "execution_count": 5,
   "metadata": {},
   "outputs": [
    {
     "name": "stdout",
     "output_type": "stream",
     "text": [
      "False\n"
     ]
    }
   ],
   "source": [
    "print(2+3 == 1)"
   ]
  },
  {
   "cell_type": "code",
   "execution_count": 7,
   "metadata": {},
   "outputs": [
    {
     "name": "stdout",
     "output_type": "stream",
     "text": [
      "5\n"
     ]
    }
   ],
   "source": [
    "# instruction if\n",
    "somme = 5 \n",
    "if 2+3 == somme:\n",
    "    print(somme)"
   ]
  },
  {
   "cell_type": "code",
   "execution_count": 15,
   "metadata": {},
   "outputs": [
    {
     "name": "stdout",
     "output_type": "stream",
     "text": [
      "a= 8, b= 5\n",
      "a > b\n"
     ]
    }
   ],
   "source": [
    "# if avec else\n",
    "import random \n",
    "a = random.randint(0, 10) \n",
    "b = random.randint(0, 10) \n",
    "print(f'a= {a}, b= {b}')\n",
    "\n",
    "if a > b:\n",
    "    print('a > b')\n",
    "else:\n",
    "    print('a <=b')"
   ]
  },
  {
   "cell_type": "code",
   "execution_count": 21,
   "metadata": {},
   "outputs": [
    {
     "name": "stdout",
     "output_type": "stream",
     "text": [
      "a= 2, b= 2\n",
      "a =b\n"
     ]
    }
   ],
   "source": [
    "# if avec elif et else\n",
    "import random \n",
    "a = random.randint(0, 10) \n",
    "b = random.randint(0, 10) \n",
    "print(f'a= {a}, b= {b}')\n",
    "\n",
    "if a > b:\n",
    "    print('a > b')\n",
    "elif a == b:\n",
    "    print('a =b')\n",
    "else:\n",
    "    print('a < b')"
   ]
  },
  {
   "cell_type": "markdown",
   "metadata": {},
   "source": [
    "**exercice 1:**    \n",
    "Ecrire un programme qui permet de générer aléatoirement un entier puis déterminer s’il appartient à un intervalle donné, sachant que les extrémités de l’intervalle sont fixées par l’utilisateur."
   ]
  },
  {
   "cell_type": "markdown",
   "metadata": {},
   "source": [
    "**exercice 2:**   \n",
    "Ecrire un programme qui génére aléatoirement deux nombres compris entre -10 et 10 et informe ensuite si leur produit est négatif ou positif. "
   ]
  },
  {
   "cell_type": "markdown",
   "metadata": {},
   "source": [
    "**exercice 3:**  \n",
    "Ecrire un programme qui à partir d’une note affiche la mention correspondante ?\n",
    "\n"
   ]
  },
  {
   "cell_type": "markdown",
   "metadata": {},
   "source": [
    "**exercice 4:**    \n",
    "Ecrire un programme qui permet de calculer le montant des heures supplémentaires d’un employé, sachant le prix unitaire d’une heure,  selon le barème suivant :\n",
    "\n",
    " * Les 39 premières heures sans supplément,\n",
    " * De la 40ième à la 44ième heure sont majorées de 50%,\n",
    " * De la 45ième à la 49ième heure sont majorées de 75%,\n",
    " * De la 50ième heure ou plus, sont majorées de 100%.\n"
   ]
  },
  {
   "cell_type": "markdown",
   "metadata": {},
   "source": [
    "## 2. Les boucles:\n",
    "1. les boucles for\n",
    "2. les boucles while"
   ]
  },
  {
   "cell_type": "markdown",
   "metadata": {},
   "source": [
    "#### 1. la boucle for"
   ]
  },
  {
   "cell_type": "code",
   "execution_count": 33,
   "metadata": {},
   "outputs": [
    {
     "name": "stdout",
     "output_type": "stream",
     "text": [
      "0\n",
      "1\n",
      "2\n",
      "3\n",
      "4\n",
      "5\n"
     ]
    }
   ],
   "source": [
    "Nous parcourons tous les éléments de la liste et affichons chaque élement\n",
    "L= [0, 1, 2, 3, 4, 5]\n",
    "for i in L:\n",
    "    print(i)"
   ]
  },
  {
   "cell_type": "code",
   "execution_count": 35,
   "metadata": {},
   "outputs": [
    {
     "name": "stdout",
     "output_type": "stream",
     "text": [
      "0\n",
      "1\n",
      "2\n",
      "3\n",
      "4\n",
      "5\n"
     ]
    }
   ],
   "source": [
    "# nous remplaçons la liste L par range(6) [c'est equivalent], la fonction range est plus pratique pour la boucle for\n",
    "for i in range(6):\n",
    "    print(i)"
   ]
  },
  {
   "cell_type": "code",
   "execution_count": 38,
   "metadata": {},
   "outputs": [
    {
     "name": "stdout",
     "output_type": "stream",
     "text": [
      "5050\n"
     ]
    }
   ],
   "source": [
    "# à l'aide d'une boucle for, calculons la somme des entiers: 1+ 2+ 3+ ...+ 100\n",
    "somme = 0 \n",
    "for i in range(101):\n",
    "    somme = somme + i\n",
    "print(somme)\n"
   ]
  },
  {
   "cell_type": "markdown",
   "metadata": {},
   "source": [
    "**exercice 1:**\n",
    "Écrivez un programme pour afficher tous les nombres impairs de 1 à 30 en utilisant la boucle for."
   ]
  },
  {
   "cell_type": "markdown",
   "metadata": {},
   "source": [
    "**exercice 2:**\n",
    "Ecrivez un programme qui renvoie la liste des diviseurs d'un entier\n"
   ]
  },
  {
   "cell_type": "markdown",
   "metadata": {},
   "source": [
    "### 2. la bocule while"
   ]
  },
  {
   "cell_type": "code",
   "execution_count": 53,
   "metadata": {},
   "outputs": [
    {
     "name": "stdout",
     "output_type": "stream",
     "text": [
      "1\n",
      "2\n",
      "3\n",
      "4\n"
     ]
    }
   ],
   "source": [
    "i = 1\n",
    "while i < 5:\n",
    "    print(i)\n",
    "    i = i+1"
   ]
  },
  {
   "cell_type": "markdown",
   "metadata": {},
   "source": [
    "Le mot-clé while signifie tant que en anglais. Le corps de la boucle (c’est-à-dire le bloc d’instructions indentées) sera répété tant que la condition est vraie.\n",
    "\n",
    "Dans l’exemple ci-dessus, i sera affiché tant que sa valeur reste inférieure à 5.\n",
    "\n",
    "Remarque : Si la condition est fausse au départ, le corps de la boucle n’est jamais exécuté. Si la condition reste toujours vraie, alors le corps de la boucle est répété indéfiniment."
   ]
  },
  {
   "cell_type": "markdown",
   "metadata": {},
   "source": [
    "## 3.  Les fonctions\n",
    "\n",
    "syntaxe d'une fonction en python\n",
    "```python\n",
    "def nom_de_fonction(variable1, variable2):\n",
    "    instruction1\n",
    "    instruction2\n",
    "    return variable_de_sortie\n",
    "```"
   ]
  },
  {
   "cell_type": "code",
   "execution_count": 1,
   "metadata": {},
   "outputs": [
    {
     "name": "stdout",
     "output_type": "stream",
     "text": [
      "8\n"
     ]
    }
   ],
   "source": [
    "# exemple1: une fonction qui calcule et retourne la somme de deux entiers\n",
    "def addition(a, b):\n",
    "    somme = a + b \n",
    "    return somme\n",
    "\n",
    "a= 3\n",
    "b = 5\n",
    "somme = addition(a, b)\n",
    "print(somme)"
   ]
  },
  {
   "cell_type": "code",
   "execution_count": 16,
   "metadata": {},
   "outputs": [
    {
     "data": {
      "text/plain": [
       "0"
      ]
     },
     "execution_count": 16,
     "metadata": {},
     "output_type": "execute_result"
    }
   ],
   "source": [
    "# exemple 2: fonction qui simule le pile/ face\n",
    "import random\n",
    "def pile_face():\n",
    "    pile_ou_face = random.randint(0,1)\n",
    "    return pile_ou_face\n",
    "\n",
    "pile_face()\n"
   ]
  },
  {
   "cell_type": "code",
   "execution_count": 30,
   "metadata": {},
   "outputs": [],
   "source": [
    "def test_lgn():\n",
    "    sum_0 = 0\n",
    "    sum_1 = 0\n",
    "    for i in range(100000):\n",
    "        pile_ou_face = pile_face() \n",
    "        if pile_ou_face == 0:\n",
    "            sum_0 = sum_0 + 1\n",
    "        if pile_ou_face == 1:\n",
    "            sum_1 = sum_1 + 1\n",
    "    return sum_0, sum_1"
   ]
  },
  {
   "cell_type": "code",
   "execution_count": 33,
   "metadata": {},
   "outputs": [],
   "source": [
    "liste = []\n",
    "for i in range(100):\n",
    "    a, b = test_lgn()\n",
    "    diff = a-b\n",
    "    liste.append(diff)\n"
   ]
  },
  {
   "cell_type": "code",
   "execution_count": 34,
   "metadata": {},
   "outputs": [
    {
     "data": {
      "text/plain": [
       "[-262,\n",
       " 658,\n",
       " -294,\n",
       " -84,\n",
       " 324,\n",
       " 238,\n",
       " 190,\n",
       " -124,\n",
       " -170,\n",
       " 100,\n",
       " -112,\n",
       " -144,\n",
       " 124,\n",
       " 106,\n",
       " -316,\n",
       " -700,\n",
       " 88,\n",
       " 100,\n",
       " 326,\n",
       " 140,\n",
       " 310,\n",
       " 584,\n",
       " -10,\n",
       " -692,\n",
       " -14,\n",
       " -328,\n",
       " 88,\n",
       " -50,\n",
       " 370,\n",
       " -400,\n",
       " 120,\n",
       " 274,\n",
       " 180,\n",
       " 308,\n",
       " 128,\n",
       " 118,\n",
       " -326,\n",
       " 98,\n",
       " -432,\n",
       " -40,\n",
       " 236,\n",
       " 126,\n",
       " 112,\n",
       " -178,\n",
       " -210,\n",
       " 412,\n",
       " -98,\n",
       " -584,\n",
       " 348,\n",
       " 24,\n",
       " -226,\n",
       " 178,\n",
       " 112,\n",
       " 182,\n",
       " -302,\n",
       " -242,\n",
       " 16,\n",
       " 266,\n",
       " -316,\n",
       " -198,\n",
       " 450,\n",
       " 82,\n",
       " -8,\n",
       " -124,\n",
       " 294,\n",
       " 190,\n",
       " -222,\n",
       " -286,\n",
       " 54,\n",
       " -366,\n",
       " -394,\n",
       " 80,\n",
       " -366,\n",
       " -138,\n",
       " 38,\n",
       " -214,\n",
       " 240,\n",
       " -2,\n",
       " -156,\n",
       " 180,\n",
       " 94,\n",
       " -428,\n",
       " 684,\n",
       " -416,\n",
       " 154,\n",
       " -344,\n",
       " -32,\n",
       " 288,\n",
       " 362,\n",
       " 100,\n",
       " -122,\n",
       " 176,\n",
       " -306,\n",
       " 218,\n",
       " 154,\n",
       " 186,\n",
       " 346,\n",
       " -38,\n",
       " -196,\n",
       " -372]"
      ]
     },
     "execution_count": 34,
     "metadata": {},
     "output_type": "execute_result"
    }
   ],
   "source": [
    "liste"
   ]
  },
  {
   "cell_type": "markdown",
   "metadata": {},
   "source": [
    "**REF**\n",
    "1. https://developpement-informatique.com/article/31/exercices-corriges---python-et-langage-c---td1"
   ]
  },
  {
   "cell_type": "code",
   "execution_count": null,
   "metadata": {},
   "outputs": [],
   "source": []
  }
 ],
 "metadata": {
  "interpreter": {
   "hash": "dba44f82d66c447e87fc3eb121d37bc7df2524c78ca577acb5d9b761c4754cc4"
  },
  "kernelspec": {
   "display_name": "Python 3.9.7 ('base')",
   "language": "python",
   "name": "python3"
  },
  "language_info": {
   "codemirror_mode": {
    "name": "ipython",
    "version": 3
   },
   "file_extension": ".py",
   "mimetype": "text/x-python",
   "name": "python",
   "nbconvert_exporter": "python",
   "pygments_lexer": "ipython3",
   "version": "3.9.7"
  },
  "orig_nbformat": 4
 },
 "nbformat": 4,
 "nbformat_minor": 2
}
