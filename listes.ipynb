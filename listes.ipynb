{
 "cells": [
  {
   "cell_type": "markdown",
   "metadata": {},
   "source": [
    "# LES LISTES\n",
    "Une liste en Python est:\n",
    "* une structure de données qui peut contenir **nʼimporte** quel type de données\n",
    "(nombre entier, nombre flottant, chaîne de caractères, ...): liste = [5, 'hello', 2.4]\n",
    "* Les éléments dʼune liste sont **rangés** et séparés par des virgules: liste = [1, 2, 3]\n",
    "* **Le premier élément de la liste  a pour rang 0** ; il est noté liste[0]"
   ]
  },
  {
   "cell_type": "markdown",
   "metadata": {},
   "source": [
    "### 1 opérations basiques sur les listes "
   ]
  },
  {
   "cell_type": "code",
   "execution_count": 125,
   "metadata": {},
   "outputs": [
    {
     "name": "stdout",
     "output_type": "stream",
     "text": [
      "<class 'list'>\n",
      "['a', 'b', 'c', 'd']\n"
     ]
    }
   ],
   "source": [
    "# on crée une liste que l'on nomme my_liste et qui contient les éléments a, b, c, d\n",
    "my_liste = ['a', 'b', 'c', 'd']\n",
    "\n",
    "# affichage\n",
    "print(type(my_liste)) # j'affiche le type de my_liste\n",
    "print(my_liste) # j'affiche la liste my_liste"
   ]
  },
  {
   "cell_type": "code",
   "execution_count": 126,
   "metadata": {},
   "outputs": [
    {
     "data": {
      "text/plain": [
       "'b'"
      ]
     },
     "execution_count": 126,
     "metadata": {},
     "output_type": "execute_result"
    }
   ],
   "source": [
    "my_liste[1]  # donne 'b' (indices commencent à 0).\n",
    "# Q: afficher le dernier élément de la liste "
   ]
  },
  {
   "cell_type": "code",
   "execution_count": 127,
   "metadata": {},
   "outputs": [
    {
     "data": {
      "text/plain": [
       "['a', 'b']"
      ]
     },
     "execution_count": 127,
     "metadata": {},
     "output_type": "execute_result"
    }
   ],
   "source": [
    "my_liste[0:2]  # sous liste commençant à l'indice 0 et terminant à l'indice précédant 2, donc ici ['a', 'b'].\n",
    "# Q: afficher les éléments ['c', 'd']\n"
   ]
  },
  {
   "cell_type": "code",
   "execution_count": 128,
   "metadata": {},
   "outputs": [
    {
     "data": {
      "text/plain": [
       "'d'"
      ]
     },
     "execution_count": 128,
     "metadata": {},
     "output_type": "execute_result"
    }
   ],
   "source": [
    "# il est possible d'indexer une listes dans l'ordre inverse: \n",
    "my_liste[-1]  # renvoie le dernier élément, ici 'd'.\n",
    "# Q: qu'affiche my_liste[-3] ? my_liste[-3: -1] ? "
   ]
  },
  {
   "cell_type": "code",
   "execution_count": 129,
   "metadata": {},
   "outputs": [
    {
     "data": {
      "text/plain": [
       "['c', 'd']"
      ]
     },
     "execution_count": 129,
     "metadata": {},
     "output_type": "execute_result"
    }
   ],
   "source": [
    "my_liste[2:] # affiche tous les élements à partir de l'indice 2"
   ]
  },
  {
   "cell_type": "code",
   "execution_count": 130,
   "metadata": {},
   "outputs": [
    {
     "data": {
      "text/plain": [
       "['a', 'b']"
      ]
     },
     "execution_count": 130,
     "metadata": {},
     "output_type": "execute_result"
    }
   ],
   "source": [
    "my_liste[: -2 ] # affiche tous les élements du début jusqu'au deuxième élément avant la fin de la liste exclu"
   ]
  },
  {
   "cell_type": "code",
   "execution_count": 18,
   "metadata": {},
   "outputs": [
    {
     "data": {
      "text/plain": [
       "4"
      ]
     },
     "execution_count": 18,
     "metadata": {},
     "output_type": "execute_result"
    }
   ],
   "source": [
    "len(my_liste) # permet d'afficher la taille de la liste my_liste\n",
    "# Q: créer une nouvelle liste new_list contenant les élements: 1, 4, 6, 'e', 'f', 0.  Afficher sa taille."
   ]
  },
  {
   "cell_type": "code",
   "execution_count": 109,
   "metadata": {},
   "outputs": [
    {
     "data": {
      "text/plain": [
       "2"
      ]
     },
     "execution_count": 109,
     "metadata": {},
     "output_type": "execute_result"
    }
   ],
   "source": [
    "my_liste.index('c') # renvoie l'indice de l'élement 'c'"
   ]
  },
  {
   "cell_type": "code",
   "execution_count": null,
   "metadata": {},
   "outputs": [],
   "source": [
    "# pour concaténer deux listes L1 et L2 on les additionnent: L1 + L2\n",
    "# Q: créer une nouvelle liste liste_concat  en concaténant my_liste et new_liste"
   ]
  },
  {
   "cell_type": "markdown",
   "metadata": {},
   "source": [
    "## 2 modification d'une liste\n",
    "* ajouter des élements à une liste\n",
    "* ordonner une liste\n",
    "* renverser une liste\n",
    "* détruire une liste ou une partie de ses éléments\n"
   ]
  },
  {
   "cell_type": "code",
   "execution_count": 112,
   "metadata": {},
   "outputs": [],
   "source": [
    "my_liste = [4, 3, 8, 2, 5] # nous créeons my_liste avec les élements: 4, 3, 8, 2, 5"
   ]
  },
  {
   "cell_type": "code",
   "execution_count": 113,
   "metadata": {},
   "outputs": [],
   "source": [
    "my_liste[2] = 1  #  permet d'insérer 6 à la position 3\n"
   ]
  },
  {
   "cell_type": "code",
   "execution_count": 114,
   "metadata": {},
   "outputs": [],
   "source": [
    "my_liste.append(6)  # ajoute 7 à  la liste (donc en dernière position)"
   ]
  },
  {
   "cell_type": "code",
   "execution_count": 115,
   "metadata": {},
   "outputs": [],
   "source": [
    "my_liste.sort() # trie les éléments de la liste."
   ]
  },
  {
   "cell_type": "code",
   "execution_count": 116,
   "metadata": {},
   "outputs": [],
   "source": [
    "my_liste.reverse() # renverse la liste "
   ]
  },
  {
   "cell_type": "code",
   "execution_count": 117,
   "metadata": {},
   "outputs": [],
   "source": [
    "my_liste.insert(3, 0) # insert l'élément 0 à l'indice 3, et décale le reste"
   ]
  },
  {
   "cell_type": "code",
   "execution_count": 118,
   "metadata": {},
   "outputs": [],
   "source": [
    "my_liste.remove(6) # détruit l'élement 6 "
   ]
  },
  {
   "cell_type": "code",
   "execution_count": 34,
   "metadata": {},
   "outputs": [],
   "source": [
    "del my_liste[1] # détruit l'élément d'indice 2 (donc à la 3 eme position)"
   ]
  },
  {
   "cell_type": "code",
   "execution_count": 31,
   "metadata": {},
   "outputs": [],
   "source": [
    "del my_liste # détruit la liste. Si vous afficher maintenant my_liste, vous verrez un message d'erreur"
   ]
  },
  {
   "cell_type": "markdown",
   "metadata": {},
   "source": [
    "### 3  Autres opérations\n",
    "* les fonctions **min**, **max** et **sum** renvoie le minimum maximum et la somme d'une liste"
   ]
  },
  {
   "cell_type": "code",
   "execution_count": 99,
   "metadata": {},
   "outputs": [
    {
     "name": "stdout",
     "output_type": "stream",
     "text": [
      "minimum de my_liste:  0\n",
      "maximum de my_liste:  4\n",
      "somme de my_liste:  10\n"
     ]
    }
   ],
   "source": [
    "my_liste = [4, 3, 0, 2, 1]\n",
    "print(\"minimum de my_liste: \",  min(my_liste))\n",
    "print(\"maximum de my_liste: \",  max(my_liste))\n",
    "print(\"somme de my_liste: \",  sum(my_liste))\n"
   ]
  },
  {
   "cell_type": "markdown",
   "metadata": {},
   "source": [
    "* **my_liste = []** ou encore **my_liste = list()** permet de créer une liste vide"
   ]
  },
  {
   "cell_type": "markdown",
   "metadata": {},
   "source": [
    "### 4 Exercices"
   ]
  },
  {
   "cell_type": "markdown",
   "metadata": {},
   "source": [
    "créer la liste  L = [17, 38, 10, 25, 72], puis effectuez les actions suivantes :\n",
    "1.  triez et affichez la liste\n",
    "2.  ajoutez l’élément 12 à la liste et affichez la liste\n",
    "3.  renversez et affichez la liste\n",
    "4.  affichez l’indice de l’élément 17\n",
    "5.  enlevez l’élément 38 et affichez la liste\n",
    "6.  affichez la sous-liste du 2e au 3e élément\n",
    "7.  affichez la sous-liste du début au 2e élément\n",
    "8.  affichez la sous-liste du 3e élément à la fin de la liste\n",
    "9.  affichez le dernier élément en utilisant un indiçage négatif."
   ]
  },
  {
   "cell_type": "markdown",
   "metadata": {},
   "source": [
    "**REF**\n",
    "* http://www.python-simple.com/python-langage/liste.php"
   ]
  }
 ],
 "metadata": {
  "interpreter": {
   "hash": "dba44f82d66c447e87fc3eb121d37bc7df2524c78ca577acb5d9b761c4754cc4"
  },
  "kernelspec": {
   "display_name": "Python 3.9.7 ('base')",
   "language": "python",
   "name": "python3"
  },
  "language_info": {
   "codemirror_mode": {
    "name": "ipython",
    "version": 3
   },
   "file_extension": ".py",
   "mimetype": "text/x-python",
   "name": "python",
   "nbconvert_exporter": "python",
   "pygments_lexer": "ipython3",
   "version": "3.9.7"
  },
  "orig_nbformat": 4
 },
 "nbformat": 4,
 "nbformat_minor": 2
}
