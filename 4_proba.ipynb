{
 "cells": [
  {
   "cell_type": "markdown",
   "metadata": {},
   "source": [
    "**Tutoriels à faire:**\n",
    "1. [le module random](https://www.geeksforgeeks.org/python-random-module/#:~:text=Python%20Random%20module%20is%20an,a%20list%20or%20string%2C%20etc)"
   ]
  },
  {
   "cell_type": "code",
   "execution_count": 12,
   "metadata": {},
   "outputs": [
    {
     "name": "stdout",
     "output_type": "stream",
     "text": [
      "0.5889007644351674\n",
      "66\n",
      "0.07968271150758013\n"
     ]
    }
   ],
   "source": [
    "import random\n",
    "print(random.uniform(0, 1)) # uniforme sur [0, 1]\n",
    "print(random.randint(0, 100))\n",
    "print(random.gauss(0, 1)) # gauss avec m = 0 et sigma = 1"
   ]
  },
  {
   "cell_type": "code",
   "execution_count": 16,
   "metadata": {},
   "outputs": [
    {
     "data": {
      "image/png": "[encoded data removed]",
      "text/plain": [
       "<Figure size 432x288 with 1 Axes>"
      ]
     },
     "metadata": {
      "needs_background": "light"
     },
     "output_type": "display_data"
    }
   ],
   "source": [
    "# import the required libraries \n",
    "import random \n",
    "import matplotlib.pyplot as plt \n",
    "    \n",
    "# store the random numbers in a list \n",
    "nums = [] \n",
    "mu = 100\n",
    "sigma = 50\n",
    "    \n",
    "for i in range(100000): \n",
    "    temp = random.gauss(mu, sigma) \n",
    "    nums.append(temp) \n",
    "        \n",
    "# plotting a graph \n",
    "plt.hist(nums, bins = 200) \n",
    "plt.show()"
   ]
  },
  {
   "cell_type": "code",
   "execution_count": 26,
   "metadata": {},
   "outputs": [
    {
     "data": {
      "image/png": "[encoded data removed]",
      "text/plain": [
       "<Figure size 432x288 with 1 Axes>"
      ]
     },
     "metadata": {
      "needs_background": "light"
     },
     "output_type": "display_data"
    }
   ],
   "source": [
    "nums = [] \n",
    "a = 0\n",
    "b = 1\n",
    "    \n",
    "for i in range(100000): \n",
    "    temp = random.uniform(mu, sigma) \n",
    "    nums.append(temp) \n",
    "        \n",
    "# plotting a graph \n",
    "plt.hist(nums, bins = 100) \n",
    "plt.show()"
   ]
  },
  {
   "cell_type": "code",
   "execution_count": 32,
   "metadata": {},
   "outputs": [
    {
     "name": "stdout",
     "output_type": "stream",
     "text": [
      "0.4244267810220645\n",
      "-0.6339081774055143\n"
     ]
    }
   ],
   "source": [
    "import numpy as np\n",
    "print(np.random.exponential())\n",
    "print(np.random.normal())\n",
    "# liste complete des distributions ici https://numpy.org/doc/stable/reference/random/generator.html"
   ]
  },
  {
   "cell_type": "code",
   "execution_count": null,
   "metadata": {},
   "outputs": [],
   "source": []
  }
 ],
 "metadata": {
  "interpreter": {
   "hash": "dba44f82d66c447e87fc3eb121d37bc7df2524c78ca577acb5d9b761c4754cc4"
  },
  "kernelspec": {
   "display_name": "Python 3.9.7 ('base')",
   "language": "python",
   "name": "python3"
  },
  "language_info": {
   "codemirror_mode": {
    "name": "ipython",
    "version": 3
   },
   "file_extension": ".py",
   "mimetype": "text/x-python",
   "name": "python",
   "nbconvert_exporter": "python",
   "pygments_lexer": "ipython3",
   "version": "3.9.7"
  },
  "orig_nbformat": 4
 },
 "nbformat": 4,
 "nbformat_minor": 2
}
