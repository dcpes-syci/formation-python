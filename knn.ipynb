{
 "cells": [
  {
   "cell_type": "markdown",
   "metadata": {},
   "source": [
    "# KNN"
   ]
  },
  {
   "cell_type": "markdown",
   "metadata": {},
   "source": [
    "* [Tutorail for clustering](https://machinelearningmastery.com/tutorial-to-implement-k-nearest-neighbors-in-python-from-scratch/)\n",
    "* [tutorial for regression](https://medium.com/where-quant-meets-data-science/building-k-nearest-neighbour-algorithm-from-scratch-bd0c5df13192)"
   ]
  },
  {
   "cell_type": "code",
   "execution_count": 143,
   "metadata": {},
   "outputs": [],
   "source": [
    "import numpy as np\n",
    "import pandas as pd\n",
    "import matplotlib.pyplot as plt"
   ]
  },
  {
   "cell_type": "markdown",
   "metadata": {},
   "source": [
    "## 1. CLUSTERING"
   ]
  },
  {
   "cell_type": "markdown",
   "metadata": {},
   "source": [
    "### implémentation "
   ]
  },
  {
   "cell_type": "code",
   "execution_count": 144,
   "metadata": {},
   "outputs": [],
   "source": [
    "def euclidean_distance(row1, row2):\n",
    "\tdistance = np.sqrt(np.sum((row1-row2)**2))\n",
    "\treturn distance"
   ]
  },
  {
   "cell_type": "code",
   "execution_count": 145,
   "metadata": {},
   "outputs": [],
   "source": [
    "# Locate the most similar neighbors\n",
    "def get_neighbors(train, test_row, num_neighbors):\n",
    "\tdistances = list()\n",
    "\tindex = 0\n",
    "\tfor train_row in train:\n",
    "\t\tdist = euclidean_distance(test_row, train_row)\n",
    "\t\tdistances.append((index, train_row, dist))\n",
    "\t\tindex +=1\n",
    "\tdistances.sort(key=lambda tup: tup[2])\n",
    "\tneighbors_index = list()\n",
    "\tfor i in range(num_neighbors):\n",
    "\t\tneighbors_index.append(distances[i][0])\n",
    "\treturn neighbors_index"
   ]
  },
  {
   "cell_type": "code",
   "execution_count": 152,
   "metadata": {},
   "outputs": [],
   "source": [
    "def plot_new_point(data, new_point, neighbors_index):\n",
    "    plt.scatter(np.delete(X[:, 0], neighbors_index), np.delete(X[:, 1], neighbors_index), c= 'blue', label='0')\n",
    "    plt.scatter(X[:, 0][neighbors_index], X[:, 1][neighbors_index], c= 'red', label='1')\n",
    "    plt.scatter(new_point[0], new_point[1], c= 'black', label='new')\n",
    "    plt.legend()\n",
    "    "
   ]
  },
  {
   "cell_type": "markdown",
   "metadata": {},
   "source": [
    "### Test avec dimension = 2 "
   ]
  },
  {
   "cell_type": "code",
   "execution_count": 147,
   "metadata": {},
   "outputs": [],
   "source": [
    "X1 = np.array([0, 1, 2, 8, 9, 15])\n",
    "X2 = np.array([1, 3, 0.5, 12, 8, 11])\n",
    "X = np.array([X1, X2]).T"
   ]
  },
  {
   "cell_type": "code",
   "execution_count": 148,
   "metadata": {},
   "outputs": [
    {
     "data": {
      "image/png": "[encoded data removed]",
      "text/plain": [
       "<Figure size 432x288 with 1 Axes>"
      ]
     },
     "metadata": {
      "needs_background": "light"
     },
     "output_type": "display_data"
    }
   ],
   "source": [
    "X = np.array([X1, X2]).T\n",
    "new_point = np.array([1, 4])\n",
    "neighbors_index = get_neighbors(train=X, test_row=new_point, num_neighbors=3)\n",
    "plot_new_point(data=X, new_point=new_point, neighbors_index=neighbors_index)"
   ]
  },
  {
   "cell_type": "markdown",
   "metadata": {},
   "source": [
    "### Test avec dimension > 2"
   ]
  },
  {
   "cell_type": "code",
   "execution_count": 193,
   "metadata": {},
   "outputs": [],
   "source": [
    "def plot_new_point(data, new_point, neighbors_index):\n",
    "    plt.scatter(X[:, 0][y==0], X[:, 1][y==0], c= 'blue', label='0')\n",
    "    plt.scatter(X[:, 0][y==1], X[:, 1][y==1], c= 'red', label='1')\n",
    "    plt.scatter(X[:, 0][neighbors_index], X[:, 1][neighbors_index], c= 'green', label='neighbors')\n",
    "    plt.scatter(new_point[0], new_point[1], c= 'yellow', label='new')\n",
    "    plt.legend()"
   ]
  },
  {
   "cell_type": "code",
   "execution_count": 185,
   "metadata": {},
   "outputs": [
    {
     "data": {
      "text/plain": [
       "(150,)"
      ]
     },
     "execution_count": 185,
     "metadata": {},
     "output_type": "execute_result"
    }
   ],
   "source": [
    "X[:, 0].shape"
   ]
  },
  {
   "cell_type": "code",
   "execution_count": 186,
   "metadata": {},
   "outputs": [],
   "source": [
    "from sklearn import datasets\n",
    "iris = datasets.load_iris()"
   ]
  },
  {
   "cell_type": "code",
   "execution_count": 187,
   "metadata": {},
   "outputs": [],
   "source": [
    "X = iris.data[:, :4]  # we only take the first two features.\n",
    "y = iris.target"
   ]
  },
  {
   "cell_type": "code",
   "execution_count": 199,
   "metadata": {},
   "outputs": [
    {
     "data": {
      "image/png": "[encoded data removed]",
      "text/plain": [
       "<Figure size 432x288 with 1 Axes>"
      ]
     },
     "metadata": {
      "needs_background": "light"
     },
     "output_type": "display_data"
    }
   ],
   "source": [
    "new_point = X[0, :]\n",
    "neighbors_index = get_neighbors(train=X, test_row=new_point, num_neighbors=15)\n",
    "plot_new_point(data=X, new_point=new_point, neighbors_index=neighbors_index)"
   ]
  },
  {
   "cell_type": "markdown",
   "metadata": {},
   "source": [
    "## 2. REGRESSION"
   ]
  },
  {
   "cell_type": "markdown",
   "metadata": {},
   "source": [
    "bonne implémentation -> https://medium.com/where-quant-meets-data-science/building-k-nearest-neighbour-algorithm-from-scratch-bd0c5df13192"
   ]
  }
 ],
 "metadata": {
  "interpreter": {
   "hash": "f44cd47e373fdcd6540cc92e1e85fa79ca96b9be07bae00a6abc378e951d7be1"
  },
  "kernelspec": {
   "display_name": "Python 3.9.7 ('base')",
   "language": "python",
   "name": "python3"
  },
  "language_info": {
   "codemirror_mode": {
    "name": "ipython",
    "version": 3
   },
   "file_extension": ".py",
   "mimetype": "text/x-python",
   "name": "python",
   "nbconvert_exporter": "python",
   "pygments_lexer": "ipython3",
   "version": "3.9.7"
  },
  "orig_nbformat": 4
 },
 "nbformat": 4,
 "nbformat_minor": 2
}
