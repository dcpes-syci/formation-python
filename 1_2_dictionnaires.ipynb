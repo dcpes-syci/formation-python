{
 "cells": [
  {
   "cell_type": "markdown",
   "metadata": {},
   "source": [
    "# LES DICTIONNAIRES\n",
    "\n",
    "Un dictionnaire en python est une sorte de liste mais au lieu d'utiliser des index , on utilise des clés alphanumériques."
   ]
  },
  {
   "cell_type": "code",
   "execution_count": 1,
   "metadata": {},
   "outputs": [],
   "source": [
    "liste = ['Aziz', 'Ajrir', 32, 'Data scientist']\n",
    "dictionnaire = {'prénom': 'Aziz', 'nom': 'Ajrir', 'age': 32, 'métier': 'Data scientist'}"
   ]
  },
  {
   "cell_type": "markdown",
   "metadata": {},
   "source": [
    "* Les éléments d’une liste  sont ordonnés et on accéde à un élément grâce à sa position en utilisant un numéro qu’on appelle l’indice de l’élément: **liste[2] = 32**\n",
    "\n",
    "* Un dictionnaire en Python va aussi permettre de rassembler des éléments mais ceux-ci seront identifiés par une **clé**. On peut faire l’analogie avec un dictionnaire de français où on accède à une définition avec un mot: **dictionnaire['nom'] = 'Ajrir'**.  **Ici** 'nom' est la clé, 'Ajrir' est la **valeur**\n",
    "\n",
    "* Contrairement aux listes qui sont délimitées par des **crochets** [], on utilise des **accolades** {} pour les dictionnaires.\n",
    "* Les dictionnaires ne sont pas ordonnés"
   ]
  },
  {
   "cell_type": "code",
   "execution_count": 4,
   "metadata": {},
   "outputs": [
    {
     "data": {
      "text/plain": [
       "32"
      ]
     },
     "execution_count": 4,
     "metadata": {},
     "output_type": "execute_result"
    }
   ],
   "source": [
    "# recuperer une valeur\n",
    "dictionnaire['age']  #  autre façon: dictionnaire.get('age')"
   ]
  },
  {
   "cell_type": "code",
   "execution_count": 9,
   "metadata": {},
   "outputs": [
    {
     "data": {
      "text/plain": [
       "dict_keys(['prénom', 'nom', 'age', 'métier'])"
      ]
     },
     "execution_count": 9,
     "metadata": {},
     "output_type": "execute_result"
    }
   ],
   "source": [
    "# recuperer tous les clés\n",
    "dictionnaire.keys()"
   ]
  },
  {
   "cell_type": "code",
   "execution_count": 16,
   "metadata": {},
   "outputs": [
    {
     "name": "stdout",
     "output_type": "stream",
     "text": [
      "Aziz\n",
      "Ajrir\n",
      "32\n",
      "Data scientist\n"
     ]
    }
   ],
   "source": [
    "# recuperer toutes les valeurs\n",
    "dictionnaire.values()"
   ]
  },
  {
   "cell_type": "code",
   "execution_count": 17,
   "metadata": {},
   "outputs": [
    {
     "data": {
      "text/plain": [
       "dict_items([('prénom', 'Aziz'), ('nom', 'Ajrir'), ('age', 32), ('métier', 'Data scientist')])"
      ]
     },
     "execution_count": 17,
     "metadata": {},
     "output_type": "execute_result"
    }
   ],
   "source": [
    "# recuperer tous les éléments\n",
    "dictionnaire.items()"
   ]
  },
  {
   "cell_type": "code",
   "execution_count": null,
   "metadata": {},
   "outputs": [],
   "source": [
    "# pour supprimer un élément d'un dictionnaire, on utilise \"del\"\n",
    "del dictionnaire['nom'] "
   ]
  },
  {
   "cell_type": "code",
   "execution_count": 22,
   "metadata": {},
   "outputs": [],
   "source": [
    "# Ajouter un élément:\n",
    "dictionnaire['adresse'] = '71 rue de la liberté'"
   ]
  },
  {
   "cell_type": "code",
   "execution_count": 28,
   "metadata": {},
   "outputs": [
    {
     "name": "stdout",
     "output_type": "stream",
     "text": [
      "Aziz\n",
      "32\n",
      "Data scientist\n",
      "71 rue de la liberté\n"
     ]
    }
   ],
   "source": [
    "# on utilise souvent la boucle for pour travailler avec les clés, valeurs ou éléments d'un dictionnaires:\n",
    "for key in dictionnaire.keys():\n",
    "    print(dictionnaire[key])"
   ]
  },
  {
   "cell_type": "code",
   "execution_count": 31,
   "metadata": {},
   "outputs": [
    {
     "name": "stdout",
     "output_type": "stream",
     "text": [
      "prénom Aziz\n",
      "age 32\n",
      "métier Data scientist\n",
      "adresse 71 rue de la liberté\n"
     ]
    }
   ],
   "source": [
    "for cle, valeur in dictionnaire.items():\n",
    "    print(cle, valeur)"
   ]
  },
  {
   "cell_type": "markdown",
   "metadata": {},
   "source": [
    "**on crée un dictionnaire vide de deux façons**\n",
    "1. my_dict_vide = {}\n",
    "2. my_dict_vide = dict()"
   ]
  },
  {
   "cell_type": "markdown",
   "metadata": {},
   "source": [
    "Exercice. Soit le dictionnaire : d = {'nom': 'Dupuis', 'prenom': 'Jacque', 'age': 30}\n",
    "1. Corriger l'erreur dans le prénom, la bonne valeur est 'Jacques'.\n",
    "2. Afficher la liste des clés du dictionnaire.\n",
    "3. Afficher la liste des valeurs du dictionnaire.\n",
    "4. Afficher la liste des paires clé/valeur du dictionnaire.\n"
   ]
  },
  {
   "cell_type": "markdown",
   "metadata": {},
   "source": [
    "**references**\n",
    "1. https://python.doctor/page-apprendre-dictionnaire-python\n",
    "2. https://courspython.com/dictionnaire.html"
   ]
  },
  {
   "cell_type": "markdown",
   "metadata": {},
   "source": []
  }
 ],
 "metadata": {
  "interpreter": {
   "hash": "dba44f82d66c447e87fc3eb121d37bc7df2524c78ca577acb5d9b761c4754cc4"
  },
  "kernelspec": {
   "display_name": "Python 3.9.7 ('base')",
   "language": "python",
   "name": "python3"
  },
  "language_info": {
   "codemirror_mode": {
    "name": "ipython",
    "version": 3
   },
   "file_extension": ".py",
   "mimetype": "text/x-python",
   "name": "python",
   "nbconvert_exporter": "python",
   "pygments_lexer": "ipython3",
   "version": "3.9.7"
  },
  "orig_nbformat": 4
 },
 "nbformat": 4,
 "nbformat_minor": 2
}
